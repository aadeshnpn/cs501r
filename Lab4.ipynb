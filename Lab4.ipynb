{
  "nbformat": 4,
  "nbformat_minor": 0,
  "metadata": {
    "colab": {
      "name": "Lab4.ipynb",
      "version": "0.3.2",
      "provenance": [],
      "collapsed_sections": []
    },
    "kernelspec": {
      "name": "python3",
      "display_name": "Python 3"
    },
    "accelerator": "GPU"
  },
  "cells": [
    {
      "metadata": {
        "id": "M1GQzBJZpd27",
        "colab_type": "code",
        "colab": {
          "base_uri": "https://localhost:8080/",
          "height": 436
        },
        "outputId": "bc27aa5d-6a0a-4010-901b-893604feca97"
      },
      "cell_type": "code",
      "source": [
        "# Install part\n",
        "!pip install torch torchvision matplotlib tqdm numpy"
      ],
      "execution_count": 1,
      "outputs": [
        {
          "output_type": "stream",
          "text": [
            "Collecting torch\n",
            "\u001b[?25l  Downloading https://files.pythonhosted.org/packages/49/0e/e382bcf1a6ae8225f50b99cc26effa2d4cc6d66975ccf3fa9590efcbedce/torch-0.4.1-cp36-cp36m-manylinux1_x86_64.whl (519.5MB)\n",
            "\u001b[K    100% |████████████████████████████████| 519.5MB 32kB/s \n",
            "tcmalloc: large alloc 1073750016 bytes == 0x59bf6000 @  0x7f6ee5e3c1c4 0x46d6a4 0x5fcbcc 0x4c494d 0x54f3c4 0x553aaf 0x54e4c8 0x54f4f6 0x553aaf 0x54efc1 0x54f24d 0x553aaf 0x54efc1 0x54f24d 0x553aaf 0x54efc1 0x54f24d 0x551ee0 0x54e4c8 0x54f4f6 0x553aaf 0x54efc1 0x54f24d 0x551ee0 0x54efc1 0x54f24d 0x551ee0 0x54e4c8 0x54f4f6 0x553aaf 0x54e4c8\n",
            "\u001b[?25hCollecting torchvision\n",
            "\u001b[?25l  Downloading https://files.pythonhosted.org/packages/ca/0d/f00b2885711e08bd71242ebe7b96561e6f6d01fdb4b9dcf4d37e2e13c5e1/torchvision-0.2.1-py2.py3-none-any.whl (54kB)\n",
            "\u001b[K    100% |████████████████████████████████| 61kB 17.1MB/s \n",
            "\u001b[?25hRequirement already satisfied: matplotlib in /usr/local/lib/python3.6/dist-packages (2.1.2)\n",
            "Requirement already satisfied: tqdm in /usr/local/lib/python3.6/dist-packages (4.26.0)\n",
            "Requirement already satisfied: numpy in /usr/local/lib/python3.6/dist-packages (1.14.6)\n",
            "Requirement already satisfied: six in /usr/local/lib/python3.6/dist-packages (from torchvision) (1.11.0)\n",
            "Collecting pillow>=4.1.1 (from torchvision)\n",
            "\u001b[?25l  Downloading https://files.pythonhosted.org/packages/d1/24/f53ff6b61b3d728b90934bddb4f03f8ab584a7f49299bf3bde56e2952612/Pillow-5.2.0-cp36-cp36m-manylinux1_x86_64.whl (2.0MB)\n",
            "\u001b[K    100% |████████████████████████████████| 2.0MB 3.6MB/s \n",
            "\u001b[?25hRequirement already satisfied: pytz in /usr/local/lib/python3.6/dist-packages (from matplotlib) (2018.5)\n",
            "Requirement already satisfied: pyparsing!=2.0.4,!=2.1.2,!=2.1.6,>=2.0.1 in /usr/local/lib/python3.6/dist-packages (from matplotlib) (2.2.1)\n",
            "Requirement already satisfied: cycler>=0.10 in /usr/local/lib/python3.6/dist-packages (from matplotlib) (0.10.0)\n",
            "Requirement already satisfied: python-dateutil>=2.1 in /usr/local/lib/python3.6/dist-packages (from matplotlib) (2.5.3)\n",
            "Installing collected packages: torch, pillow, torchvision\n",
            "  Found existing installation: Pillow 4.0.0\n",
            "    Uninstalling Pillow-4.0.0:\n",
            "      Successfully uninstalled Pillow-4.0.0\n",
            "Successfully installed pillow-5.2.0 torch-0.4.1 torchvision-0.2.1\n"
          ],
          "name": "stdout"
        }
      ]
    },
    {
      "metadata": {
        "id": "Ut3gTgrEsfEG",
        "colab_type": "text"
      },
      "cell_type": "markdown",
      "source": [
        "## Defining U-net model\n",
        "### Code for training and inference"
      ]
    },
    {
      "metadata": {
        "id": "LxpGF7fBqdHV",
        "colab_type": "code",
        "colab": {
          "base_uri": "https://localhost:8080/",
          "height": 650
        },
        "outputId": "e2594035-d1bc-4d8d-d73e-d9633528b534"
      },
      "cell_type": "code",
      "source": [
        "import torch\n",
        "import torch.nn as nn\n",
        "import torch.nn.functional as F\n",
        "from torch.nn.parameter import Parameter\n",
        "import torch.optim as optim\n",
        "\n",
        "import torchvision\n",
        "from torch.utils.data import Dataset, DataLoader\n",
        "from torchvision import transforms, utils, datasets\n",
        "import matplotlib.pyplot as plt\n",
        "import numpy as np\n",
        "from tqdm import tqdm\n",
        "import pdb\n",
        "\n",
        "# Instruct matplotlib to draw inline\n",
        "%matplotlib inline\n",
        "\n",
        "# See if the cuda is avaliable and store it in device\n",
        "assert torch.cuda.is_available(), \"Change to gpu\"\n",
        "device = torch.device(\"cuda:0\" if torch.cuda.is_available() else \"cpu\")\n",
        "\n",
        "\n",
        "# Dataset section\n",
        "import os\n",
        "import gzip\n",
        "import tarfile\n",
        "import gc\n",
        "from IPython.core.ultratb import AutoFormattedTB\n",
        "__ITB__ = AutoFormattedTB(mode = 'Verbose',color_scheme='LightBg', tb_offset = 1)\n",
        "\n",
        "\n",
        "# Ploting the train loss\n",
        "def plot_both_loss(loss, vloss, acc):\n",
        "  x = range(len(loss))\n",
        "  plt.plot(x, loss, label='Training loss')\n",
        "  plt.plot(x, vloss, label='Validatation loss')\n",
        "  plt.plot(x, acc, label='Training Accuracy')\n",
        "  plt.xlabel('Epoch')\n",
        "  plt.ylabel('Loss/Accuracy')\n",
        "  plt.title(\"Losses/Accuracy per Epoch\")\n",
        "  plt.legend()\n",
        "  plt.show()\n",
        "\n",
        "    \n",
        "class CancerDataset(Dataset):\n",
        "  def __init__(self, root, download=True, size=512, train=True):\n",
        "    if download and not os.path.exists(os.path.join(root, 'cancer_data')):\n",
        "      datasets.utils.download_url('http://liftothers.org/cancer_data.tar.gz', root, 'cancer_data.tar.gz', None)\n",
        "      self.extract_gzip(os.path.join(root, 'cancer_data.tar.gz'))\n",
        "      self.extract_tar(os.path.join(root, 'cancer_data.tar'))\n",
        " \n",
        "    postfix = 'train' if train else 'test'\n",
        "    root = os.path.join(root, 'cancer_data', 'cancer_data')\n",
        "    self.dataset_folder = torchvision.datasets.ImageFolder(os.path.join(root, 'inputs_' + postfix) ,transform = transforms.Compose([transforms.Resize(size),transforms.ToTensor()]))\n",
        "    self.label_folder = torchvision.datasets.ImageFolder(os.path.join(root, 'outputs_' + postfix) ,transform = transforms.Compose([transforms.Resize(size),transforms.ToTensor()]))\n",
        "    self.train = train\n",
        "    \n",
        "  @staticmethod\n",
        "  def extract_gzip(gzip_path, remove_finished=False):\n",
        "    print('Extracting {}'.format(gzip_path))\n",
        "    with open(gzip_path.replace('.gz', ''), 'wb') as out_f, gzip.GzipFile(gzip_path) as zip_f:\n",
        "      out_f.write(zip_f.read())\n",
        "    if remove_finished:\n",
        "      os.unlink(gzip_path)\n",
        " \n",
        "  @staticmethod\n",
        "  def extract_tar(tar_path):\n",
        "    print('Untarring {}'.format(tar_path))\n",
        "    z = tarfile.TarFile(tar_path)\n",
        "    z.extractall(tar_path.replace('.tar', ''))\n",
        " \n",
        " \n",
        "  def __getitem__(self,index):\n",
        "    img = self.dataset_folder[index]\n",
        "    label = self.label_folder[index]\n",
        "    return img[0],label[0][0]\n",
        " \n",
        "  def __len__(self):\n",
        "    return  len(self.dataset_folder)\n",
        "\n",
        "  \n",
        "class CancerDetection(nn.Module):\n",
        "  def __init__(self, trainset):\n",
        "    super(CancerDetection, self).__init__()\n",
        " \n",
        "    # First conv block\n",
        "    self.conv2 = nn.Sequential(\n",
        "            nn.Conv2d(3, 64, kernel_size=(3,3), padding=1),\n",
        "            nn.BatchNorm2d(64),\n",
        "            nn.ReLU(),\n",
        "            nn.Conv2d(64, 64, kernel_size=(3,3), padding=1),\n",
        "            nn.BatchNorm2d(64),\n",
        "            nn.ReLU())\n",
        "    \n",
        "    # First max pool block\n",
        "    self.maxpool1 = nn.MaxPool2d(kernel_size=2, stride=2)\n",
        "    \n",
        "    # Second conv block\n",
        "    self.conv4 = nn.Sequential(\n",
        "            nn.Conv2d(64, 128, kernel_size=(3,3), padding=1),\n",
        "            nn.BatchNorm2d(128),\n",
        "            nn.ReLU(),\n",
        "            nn.Conv2d(128, 128, kernel_size=(3,3), padding=1),\n",
        "            nn.BatchNorm2d(128),\n",
        "            nn.ReLU())\n",
        "      \n",
        "    # Second max pool block\n",
        "    self.maxpool2 = nn.MaxPool2d(kernel_size=2, stride=2)\n",
        "    \n",
        "    # Third conv block\n",
        "    self.conv6 = nn.Sequential(\n",
        "            nn.Conv2d(128, 256, kernel_size=(3,3), padding=1),\n",
        "            nn.BatchNorm2d(256),\n",
        "            nn.ReLU(),\n",
        "            nn.Conv2d(256, 256, kernel_size=(3,3), padding=1),\n",
        "            nn.BatchNorm2d(256),\n",
        "            nn.ReLU())\n",
        "    \n",
        "    # Third max pool block\n",
        "    self.maxpool3 = nn.MaxPool2d(kernel_size=2, stride=2)\n",
        "    \n",
        "    # Fourth conv block\n",
        "    self.conv8 = nn.Sequential(\n",
        "            nn.Conv2d(256, 512, kernel_size=(3,3), padding=1),\n",
        "            nn.BatchNorm2d(512),\n",
        "            nn.ReLU(),\n",
        "            nn.Conv2d(512, 512, kernel_size=(3,3), padding=1),\n",
        "            nn.BatchNorm2d(512),\n",
        "            nn.ReLU())\n",
        "    \n",
        "    # Fourth max pool block\n",
        "    self.maxpool4 = nn.MaxPool2d(kernel_size=2, stride=2)\n",
        "    \n",
        "    # Fifth conv block\n",
        "    self.conv10 = nn.Sequential(\n",
        "            nn.Conv2d(512, 1024, kernel_size=(3,3), padding=1),\n",
        "            nn.BatchNorm2d(1024),\n",
        "            nn.ReLU(),\n",
        "            nn.Conv2d(1024, 1024, kernel_size=(3,3), padding=1),\n",
        "            nn.BatchNorm2d(1024),\n",
        "            nn.ReLU())\n",
        "    \n",
        "    ## Now time for transposed convolution\n",
        "    # First transposed convolution\n",
        "    self.upconv1 = nn.ConvTranspose2d(\n",
        "        1024, 512, kernel_size = 2, stride = 2, padding = 0)\n",
        "    \n",
        "    # Sixth conv block\n",
        "    self.conv12 = nn.Sequential(\n",
        "            nn.Conv2d(1024, 512, kernel_size=(3,3), padding=1),\n",
        "            nn.BatchNorm2d(512),\n",
        "            nn.ReLU(),\n",
        "            nn.Conv2d(512, 512, kernel_size=(3,3), padding=1),\n",
        "            nn.BatchNorm2d(512),\n",
        "            nn.ReLU())\n",
        "    \n",
        "    # Second transposed convolution\n",
        "    self.upconv2 = nn.ConvTranspose2d(\n",
        "        512, 256, kernel_size = 2, stride = 2, padding = 0)\n",
        "    \n",
        "    # Seventh conv block\n",
        "    self.conv14 = nn.Sequential(\n",
        "            nn.Conv2d(512, 256, kernel_size=(3,3), padding=1),\n",
        "            nn.BatchNorm2d(256),\n",
        "            nn.ReLU(),\n",
        "            nn.Conv2d(256, 256, kernel_size=(3,3), padding=1),\n",
        "            nn.BatchNorm2d(256),\n",
        "            nn.ReLU())\n",
        "    \n",
        "    # Third transposed convolution\n",
        "    self.upconv3 = nn.ConvTranspose2d(\n",
        "        256, 128, kernel_size = 2, stride = 2, padding = 0)\n",
        "    \n",
        "    # Eight conv block\n",
        "    self.conv16 = nn.Sequential(\n",
        "            nn.Conv2d(256, 128, kernel_size=(3,3), padding=1),\n",
        "            nn.BatchNorm2d(128),\n",
        "            nn.ReLU(),\n",
        "            nn.Conv2d(128, 128, kernel_size=(3,3), padding=1),\n",
        "            nn.BatchNorm2d(128),\n",
        "            nn.ReLU())\n",
        "    \n",
        "    # Fourth transposed convolution\n",
        "    self.upconv4 = nn.ConvTranspose2d(\n",
        "        128, 64, kernel_size = 2, stride = 2, padding = 0)\n",
        "    \n",
        "    # Nineth conv block\n",
        "    self.conv18 = nn.Sequential(\n",
        "            nn.Conv2d(128, 64, kernel_size=(3,3), padding=1),\n",
        "            nn.BatchNorm2d(64),\n",
        "            nn.ReLU(),\n",
        "            nn.Conv2d(64, 64, kernel_size=(3,3), padding=1),\n",
        "            nn.BatchNorm2d(64),\n",
        "            nn.ReLU())\n",
        "    \n",
        "    # Last layer\n",
        "    self.conv19 = nn.Sequential(\n",
        "        nn.Conv2d(64, 2, kernel_size = 3, stride = 1, padding = 1),\n",
        "        nn.ReLU())\n",
        "    \n",
        "  def forward(self, input):\n",
        "    \n",
        "    first_block_conv = self.conv2(input)\n",
        "    \n",
        "    first_maxpool = self.maxpool1(first_block_conv)\n",
        "    second_block_conv = self.conv4(first_maxpool)\n",
        "    \n",
        "    second_maxpool = self.maxpool2(second_block_conv)\n",
        "    third_block_conv = self.conv6(second_maxpool)\n",
        "    \n",
        "    third_maxpool = self.maxpool3(third_block_conv)\n",
        "    fourth_block_conv = self.conv8(third_maxpool)\n",
        "    \n",
        "    fourth_maxpool = self.maxpool4(fourth_block_conv)\n",
        "    fifth_block_conv = self.conv10(fourth_maxpool)\n",
        "    \n",
        "    # Time for transpose convolution\n",
        "    first_upconv = self.upconv1(fifth_block_conv)\n",
        "    \n",
        "    # Concatnate the fourth convolution block to the first upconv block\n",
        "    first_concat = torch.cat((fourth_block_conv, first_upconv),1)    \n",
        "    sixth_block_conv = self.conv12(first_concat)\n",
        "    \n",
        "    second_upconv = self.upconv2(sixth_block_conv)\n",
        "    \n",
        "    # Concatnate the third convolution block to the second upconv block\n",
        "    second_concat = torch.cat((third_block_conv, second_upconv),1)\n",
        "    seven_block_conv = self.conv14(second_concat)\n",
        "    \n",
        "    third_upconv = self.upconv3(seven_block_conv)\n",
        "    \n",
        "    # Concatnate the second convolution block to the third upconv block\n",
        "    third_concat = torch.cat((second_block_conv, third_upconv),1)\n",
        "    eight_block_conv = self.conv16(third_concat)\n",
        "    \n",
        "    fourth_upconv = self.upconv4(eight_block_conv)\n",
        "    # Concatnate the first convolution block to the fourth upconv block\n",
        "    fourth_concat = torch.cat((first_block_conv, fourth_upconv),1)\n",
        "    nine_block_conv = self.conv18(fourth_concat)\n",
        "    \n",
        "    output = self.conv19(nine_block_conv)\n",
        "    \n",
        "    return output\n",
        "    \n",
        "def main():\n",
        "  try:\n",
        "    #your code for calling dataset and dataloader\n",
        "    \n",
        "    #Load the training data in this case CancerDataset\n",
        "    train_dataset = CancerDataset('/tmp/cancer_data',train=True)\n",
        "\n",
        "    # Load the validation data\n",
        "    validatation_dataset = CancerDataset('/tmp/cancer_data',train=False)\n",
        "    \n",
        "    # Build a neural net module passing this dataset\n",
        "    \n",
        "    #model = Network(train_dataset)\n",
        "    model = CancerDetection(train_dataset)\n",
        "\n",
        "    # Make sure that this model runs on cuda\n",
        "    model = model.cuda()\n",
        "\n",
        "    # pdb.set_trace()\n",
        "    # Define the loss function. In this case MSELoss\n",
        "    loss_func = torch.nn.CrossEntropyLoss()\n",
        "\n",
        "    # Define the optimizer to use. In this case SGD\n",
        "    optimizer = optim.SGD(model.parameters(), lr=0.001)\n",
        "\n",
        "    # Get the training data in a mini-batch\n",
        "    train_loader = torch.utils.data.DataLoader(train_dataset, batch_size=2,\n",
        "        shuffle=False, num_workers=4, pin_memory=True)\n",
        "\n",
        "    # Get the validatation data in a mini-batch\n",
        "    valid_loader = torch.utils.data.DataLoader(validatation_dataset, batch_size=2,\n",
        "        shuffle=True, num_workers=4, pin_memory=True)\n",
        "    \n",
        "    # Define a list to store all the losses\n",
        "    losses = []\n",
        "    valid_losses = []\n",
        "    accuracy = []\n",
        "    loop = tqdm(total=len(train_loader)*10, position=0)\n",
        "    \n",
        "    \n",
        "    gc.collect()\n",
        "    print(torch.cuda.memory_allocated(0) / 1e9)\n",
        " \n",
        "    for epoch in range(10):\n",
        "      # Define a list for batch loss\n",
        "      batch_losses = []\n",
        "      batch_acc = []\n",
        "      # For each data batch from training data\n",
        "      for batch, (x, y_truth) in enumerate(train_loader):\n",
        "        # batch[0] is the data and 1 is the label\n",
        "        x=x.cuda(async=True)\n",
        "        y_truth=y_truth.cuda(async=True)\n",
        "        # pdb.set_trace()\n",
        "        # Reset the grad value to zero\n",
        "        optimizer.zero_grad()\n",
        "\n",
        "        # Predicted value\n",
        "        y_hat = model(x)\n",
        "\n",
        "        # Compute the loss\n",
        "        #pdb.set_trace()\n",
        "        loss = loss_func(y_hat, y_truth.long())\n",
        "\n",
        "        # Propagate the loss backward. Backprop\n",
        "        loss.backward()\n",
        "        \n",
        "        acc = (y_hat.argmax(1) == y_truth.long()).float().mean()\n",
        "        batch_acc.append(acc)\n",
        "        \n",
        "        # print (accuracy)\n",
        "        # Set the tqdm params\n",
        "        loop.set_description('epoch:{}, loss:{:.4f}, accuracy:{:.7f}'.format(epoch, loss, acc))\n",
        "        loop.update(1)\n",
        "\n",
        "        # Append the loss to compute the average\n",
        "        batch_losses.append(loss.item())\n",
        "        \n",
        "        # Update the weights\n",
        "        optimizer.step()\n",
        "        \n",
        "        #gc.collect()\n",
        "       \n",
        "      \n",
        "      val = np.mean([loss_func(model(x.cuda()), y.cuda().long()).item() for x,y in valid_loader])\n",
        "      \n",
        "      valid_losses.append(val)\n",
        "      \n",
        "      #Call the validatation step\n",
        "      #valid_loss = validatation_loop()      \n",
        "      #gc.collect()\n",
        "      \n",
        "      # Compute average loss for that batch\n",
        "      loss = torch.mean(torch.tensor(batch_losses))\n",
        "      acc = torch.mean(torch.tensor(batch_acc))\n",
        "      # Append the average loss to draw graph\n",
        "      losses.append(loss)\n",
        "      accuracy.append(acc)\n",
        "      \n",
        "    # Close the loop display\n",
        "    loop.close()\n",
        "      \n",
        "    # Draw the plot\n",
        "    plot_both_loss(losses, valid_losses, accuracy)\n",
        "    \n",
        "    # Time to test an image\n",
        "    #testset = CancerDataset(root='/tmp/mycancerdata', train = False)\n",
        "    \n",
        "    #pdb.set_trace()\n",
        "    final_test_img = validatation_dataset[172][0].cuda()\n",
        "    final_test_label = validatation_dataset[172][1].cuda()\n",
        "    final_test_img = final_test_img.view(1,*final_test_img.shape)\n",
        "    test_pred = model(final_test_img)\n",
        "    test_pred1 = test_pred.argmax(1)\n",
        "    print ('Accuracy:', (test_pred1 == final_test_label.long()).float().mean())\n",
        "    image_data = test_pred1.cpu().detach().numpy().squeeze()\n",
        "    image_data = (1-image_data) * 255\n",
        "    plt.imshow(image_data)\n",
        "    \n",
        "    torch.save(model, 'unet.h5')\n",
        "    #label_data = final_test_label.cpu().detach().numpy().squeeze()\n",
        "    #label_data = (1-label_data)*255\n",
        "    #plt.imshow(label_data)\n",
        "  except:\n",
        "    __ITB__()\n",
        " \n",
        "main()\n",
        "gc.collect()\n",
        "  \n",
        "\n",
        "  "
      ],
      "execution_count": 6,
      "outputs": [
        {
          "output_type": "stream",
          "text": [
            "\r  0%|          | 0/6710 [00:00<?, ?it/s]"
          ],
          "name": "stderr"
        },
        {
          "output_type": "stream",
          "text": [
            "0.124240896\n"
          ],
          "name": "stdout"
        },
        {
          "output_type": "stream",
          "text": [
            "epoch:9, loss:0.2036, accuracy:0.9299183: 100%|██████████| 6710/6710 [3:26:06<00:00,  1.78s/it]\n"
          ],
          "name": "stderr"
        },
        {
          "output_type": "display_data",
          "data": {
            "image/png": "[encoded data removed]",
            "text/plain": [
              "<matplotlib.figure.Figure at 0x7f44287e5978>"
            ]
          },
          "metadata": {
            "tags": []
          }
        },
        {
          "output_type": "stream",
          "text": [
            "Accuracy: tensor(0.9481, device='cuda:0')\n"
          ],
          "name": "stdout"
        },
        {
          "output_type": "stream",
          "text": [
            "/usr/local/lib/python3.6/dist-packages/torch/serialization.py:241: UserWarning: Couldn't retrieve source code for container of type CancerDetection. It won't be checked for correctness upon loading.\n",
            "  \"type \" + obj.__name__ + \". It won't be checked \"\n"
          ],
          "name": "stderr"
        },
        {
          "output_type": "execute_result",
          "data": {
            "text/plain": [
              "3059"
            ]
          },
          "metadata": {
            "tags": []
          },
          "execution_count": 6
        },
        {
          "output_type": "display_data",
          "data": {
            "image/png": "[encoded data removed]",
            "text/plain": [
              "<matplotlib.figure.Figure at 0x7f44286b4748>"
            ]
          },
          "metadata": {
            "tags": []
          }
        }
      ]
    },
    {
      "metadata": {
        "id": "wClfD5tLtAeO",
        "colab_type": "text"
      },
      "cell_type": "markdown",
      "source": [
        "#### Above image is the predicted map for the test image 172"
      ]
    },
    {
      "metadata": {
        "id": "NWce216BtK2S",
        "colab_type": "text"
      },
      "cell_type": "markdown",
      "source": [
        "### Original Test Label"
      ]
    },
    {
      "metadata": {
        "id": "3zwqYuYZtOWW",
        "colab_type": "code",
        "colab": {
          "base_uri": "https://localhost:8080/",
          "height": 286
        },
        "outputId": "697c48aa-3ac2-4b76-f27d-429e339b09ed"
      },
      "cell_type": "code",
      "source": [
        "    test_dataset = CancerDataset('/tmp/cancer_data',train=False)\n",
        "    final_test_label = test_dataset[172][1].cuda()\n",
        "    image_data = final_test_label.cpu().detach().numpy().squeeze()\n",
        "    image_data = (1-image_data) * 255\n",
        "    plt.imshow(image_data)"
      ],
      "execution_count": 10,
      "outputs": [
        {
          "output_type": "execute_result",
          "data": {
            "text/plain": [
              "<matplotlib.image.AxesImage at 0x7f446c9a3860>"
            ]
          },
          "metadata": {
            "tags": []
          },
          "execution_count": 10
        },
        {
          "output_type": "display_data",
          "data": {
            "image/png": "[encoded data removed]",
            "text/plain": [
              "<matplotlib.figure.Figure at 0x7f44a03e2438>"
            ]
          },
          "metadata": {
            "tags": []
          }
        }
      ]
    },
    {
      "metadata": {
        "id": "sejM32oitwRQ",
        "colab_type": "text"
      },
      "cell_type": "markdown",
      "source": [
        "### Predicted Label"
      ]
    },
    {
      "metadata": {
        "id": "C0kDvqpftkbi",
        "colab_type": "code",
        "colab": {
          "base_uri": "https://localhost:8080/",
          "height": 304
        },
        "outputId": "98aaa678-47fd-4c3d-dead-487901f8772b"
      },
      "cell_type": "code",
      "source": [
        "    model = torch.load('unet.h5')\n",
        "    test_dataset = CancerDataset('/tmp/cancer_data',train=False)\n",
        "    final_test_img = test_dataset[172][0].cuda()\n",
        "    final_test_label = test_dataset[172][1].cuda()\n",
        "    final_test_img = final_test_img.view(1,*final_test_img.shape)\n",
        "    test_pred = model(final_test_img)\n",
        "    test_pred1 = test_pred.argmax(1)\n",
        "    print ('Accuracy:', (test_pred1 == final_test_label.long()).float().mean())\n",
        "    image_data = test_pred1.cpu().detach().numpy().squeeze()\n",
        "    image_data = (1-image_data) * 255\n",
        "    plt.imshow(image_data)"
      ],
      "execution_count": 11,
      "outputs": [
        {
          "output_type": "stream",
          "text": [
            "Accuracy: tensor(0.9481, device='cuda:0')\n"
          ],
          "name": "stdout"
        },
        {
          "output_type": "execute_result",
          "data": {
            "text/plain": [
              "<matplotlib.image.AxesImage at 0x7f4428846048>"
            ]
          },
          "metadata": {
            "tags": []
          },
          "execution_count": 11
        },
        {
          "output_type": "display_data",
          "data": {
            "image/png": "[encoded data removed]",
            "text/plain": [
              "<matplotlib.figure.Figure at 0x7f44287c1710>"
            ]
          },
          "metadata": {
            "tags": []
          }
        }
      ]
    },
    {
      "metadata": {
        "id": "vLPTIGoMuE8s",
        "colab_type": "code",
        "colab": {}
      },
      "cell_type": "code",
      "source": [
        "from google.colab import files\n",
        "files.download(\"unet.h5\")"
      ],
      "execution_count": 0,
      "outputs": []
    },
    {
      "metadata": {
        "id": "dB91QQngvozs",
        "colab_type": "code",
        "colab": {}
      },
      "cell_type": "code",
      "source": [
        ""
      ],
      "execution_count": 0,
      "outputs": []
    }
  ]
}