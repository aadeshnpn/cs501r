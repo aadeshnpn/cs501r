{
  "nbformat": 4,
  "nbformat_minor": 0,
  "metadata": {
    "colab": {
      "name": "Lab2.ipynb",
      "version": "0.3.2",
      "provenance": [],
      "collapsed_sections": []
    },
    "kernelspec": {
      "name": "python3",
      "display_name": "Python 3"
    },
    "accelerator": "GPU"
  },
  "cells": [
    {
      "metadata": {
        "id": "8feIPImxO1xf",
        "colab_type": "code",
        "colab": {
          "base_uri": "https://localhost:8080/",
          "height": 436
        },
        "outputId": "b2524f97-39ec-4ae2-c768-3c9e0242df22"
      },
      "cell_type": "code",
      "source": [
        "# Install part\n",
        "!pip install torch torchvision matplotlib tqdm numpy"
      ],
      "execution_count": 2,
      "outputs": [
        {
          "output_type": "stream",
          "text": [
            "Collecting torch\n",
            "\u001b[?25l  Downloading https://files.pythonhosted.org/packages/49/0e/e382bcf1a6ae8225f50b99cc26effa2d4cc6d66975ccf3fa9590efcbedce/torch-0.4.1-cp36-cp36m-manylinux1_x86_64.whl (519.5MB)\n",
            "\u001b[K    100% |████████████████████████████████| 519.5MB 20kB/s \n",
            "tcmalloc: large alloc 1073750016 bytes == 0x59168000 @  0x7f6931cea1c4 0x46d6a4 0x5fcbcc 0x4c494d 0x54f3c4 0x553aaf 0x54e4c8 0x54f4f6 0x553aaf 0x54efc1 0x54f24d 0x553aaf 0x54efc1 0x54f24d 0x553aaf 0x54efc1 0x54f24d 0x551ee0 0x54e4c8 0x54f4f6 0x553aaf 0x54efc1 0x54f24d 0x551ee0 0x54efc1 0x54f24d 0x551ee0 0x54e4c8 0x54f4f6 0x553aaf 0x54e4c8\n",
            "\u001b[?25hCollecting torchvision\n",
            "\u001b[?25l  Downloading https://files.pythonhosted.org/packages/ca/0d/f00b2885711e08bd71242ebe7b96561e6f6d01fdb4b9dcf4d37e2e13c5e1/torchvision-0.2.1-py2.py3-none-any.whl (54kB)\n",
            "\u001b[K    100% |████████████████████████████████| 61kB 21.8MB/s \n",
            "\u001b[?25hRequirement already satisfied: matplotlib in /usr/local/lib/python3.6/dist-packages (2.1.2)\n",
            "Requirement already satisfied: tqdm in /usr/local/lib/python3.6/dist-packages (4.26.0)\n",
            "Requirement already satisfied: numpy in /usr/local/lib/python3.6/dist-packages (1.14.5)\n",
            "Collecting pillow>=4.1.1 (from torchvision)\n",
            "\u001b[?25l  Downloading https://files.pythonhosted.org/packages/d1/24/f53ff6b61b3d728b90934bddb4f03f8ab584a7f49299bf3bde56e2952612/Pillow-5.2.0-cp36-cp36m-manylinux1_x86_64.whl (2.0MB)\n",
            "\u001b[K    100% |████████████████████████████████| 2.0MB 5.2MB/s \n",
            "\u001b[?25hRequirement already satisfied: six in /usr/local/lib/python3.6/dist-packages (from torchvision) (1.11.0)\n",
            "Requirement already satisfied: pytz in /usr/local/lib/python3.6/dist-packages (from matplotlib) (2018.5)\n",
            "Requirement already satisfied: python-dateutil>=2.1 in /usr/local/lib/python3.6/dist-packages (from matplotlib) (2.5.3)\n",
            "Requirement already satisfied: cycler>=0.10 in /usr/local/lib/python3.6/dist-packages (from matplotlib) (0.10.0)\n",
            "Requirement already satisfied: pyparsing!=2.0.4,!=2.1.2,!=2.1.6,>=2.0.1 in /usr/local/lib/python3.6/dist-packages (from matplotlib) (2.2.0)\n",
            "Installing collected packages: torch, pillow, torchvision\n",
            "  Found existing installation: Pillow 4.0.0\n",
            "    Uninstalling Pillow-4.0.0:\n",
            "      Successfully uninstalled Pillow-4.0.0\n",
            "Successfully installed pillow-5.2.0 torch-0.4.1 torchvision-0.2.1\n"
          ],
          "name": "stdout"
        }
      ]
    },
    {
      "metadata": {
        "id": "giHDkkWGQdMZ",
        "colab_type": "text"
      },
      "cell_type": "markdown",
      "source": [
        ""
      ]
    },
    {
      "metadata": {
        "id": "UOMUDeolO4aG",
        "colab_type": "code",
        "colab": {}
      },
      "cell_type": "code",
      "source": [
        ""
      ],
      "execution_count": 0,
      "outputs": []
    },
    {
      "metadata": {
        "id": "UsRw4qbOS8oR",
        "colab_type": "code",
        "colab": {}
      },
      "cell_type": "code",
      "source": [
        "### First part. BoilerPlate code"
      ],
      "execution_count": 0,
      "outputs": []
    },
    {
      "metadata": {
        "id": "Ol5v8YT4QeFr",
        "colab_type": "code",
        "colab": {
          "base_uri": "https://localhost:8080/",
          "height": 329
        },
        "outputId": "5353d15f-d2c4-4ef4-bb03-3ac5f3850887"
      },
      "cell_type": "code",
      "source": [
        "import torch\n",
        "import torch.nn as nn\n",
        "import torch.nn.functional as F\n",
        "import torch.optim as optim\n",
        "import torchvision\n",
        "from torch.utils.data import Dataset, DataLoader\n",
        "from torchvision import transforms, utils, datasets\n",
        "import matplotlib.pyplot as plt\n",
        "import numpy as np\n",
        "from tqdm import tqdm\n",
        "\n",
        "# Instruct matplotlib to draw inline\n",
        "%matplotlib inline\n",
        "\n",
        "# See if the cuda is avaliable and store it in device\n",
        "device = torch.device(\"cuda:0\" if torch.cuda.is_available() else \"cpu\")\n",
        "\n",
        "\n",
        "# Define the neural nets module which inherits the nn.Module\n",
        "class Network(nn.Module):\n",
        "    def __init__(self, dataset):\n",
        "        super(Network, self).__init__()\n",
        "        x, y = dataset[0]\n",
        "        c, h, w = x.size()\n",
        "        out = y.size(0)\n",
        "        # One of the way to define the neural nets layers\n",
        "        \n",
        "        self.net = nn.Sequential(nn.Linear(c * h * w, out))\n",
        "        \n",
        "        # Defining multiple layer neural networks\n",
        "        \"\"\"\n",
        "        self.net = nn.Sequential(\n",
        "            nn.Linear(c * h * w, 1000),\n",
        "            nn.Sigmoid(),\n",
        "            nn.Linear(1000, out),\n",
        "            )\n",
        "        \"\"\"\n",
        "    # Forward pass. Backward pass is automatically implemented\n",
        "    def forward(self, x):\n",
        "        n, c, h, w = x.size()\n",
        "        flattened = x.view(n , c * h * w)\n",
        "        return self.net(flattened)\n",
        "\n",
        "\n",
        "# Defining custom dataset processor\n",
        "class FashionMNISTProcessedDataset(Dataset):\n",
        "    def __init__(self, root, train=True):\n",
        "        self.data = datasets.FashionMNIST(root=root, train=True,\n",
        "                                            download=True, transform=transforms.ToTensor())\n",
        "        # Identity matrix\n",
        "        self.e = torch.eye(10)\n",
        "\n",
        "    def __getitem__(self, i):\n",
        "        x, y = self.data[i]\n",
        "        # Only used if we want y as a scalar\n",
        "        #return x, y.unsqueeze(0).float()\n",
        "        # Y as an one hot encoding\n",
        "        return x, self.e[y].float()\n",
        "\n",
        "    def __len__(self):\n",
        "        return 100 #len(self.data)\n",
        "\n",
        "      \n",
        "# Ploting the train loss   \n",
        "def plot_train_loss(loss):\n",
        "    #x = np.linspace(0, 2, 100)\n",
        "    x = range(len(loss))\n",
        "\n",
        "    plt.plot(x, loss, label='loss')\n",
        "\n",
        "    plt.xlabel('Epoch')\n",
        "    plt.ylabel('Loss')\n",
        "\n",
        "    plt.title(\"Training Loss per Epoch\")\n",
        "\n",
        "    plt.legend()\n",
        "\n",
        "    plt.show()\n",
        "\n",
        "\n",
        "train_dataset = FashionMNISTProcessedDataset('/tmp/fashionmnist',train=True)\n",
        "model = Network(train_dataset)\n",
        "model = model.cuda()\n",
        "loss_func = torch.nn.MSELoss()\n",
        "optimizer = optim.SGD(model.parameters(), lr=0.0001)\n",
        "\n",
        "train_loader = torch.utils.data.DataLoader(train_dataset, batch_size=20,\n",
        "    shuffle=True, num_workers=2, pin_memory=True)\n",
        "\n",
        "losses = []\n",
        "loop = tqdm(total=len(train_loader)*100, position=0)\n",
        "for epoch in range(100):\n",
        "\n",
        "    for batch in train_loader:\n",
        "        batch[0]=batch[0].cuda(async=True)\n",
        "        batch[1]=batch[1].cuda(async=True)\n",
        "        #print (batch[0], batch[1])\n",
        "        optimizer.zero_grad()\n",
        "\n",
        "        y_hat = model(batch[0])\n",
        "        loss = loss_func(y_hat, batch[1])\n",
        "        loss.backward()\n",
        "        optimizer.step()\n",
        "        loop.set_description('loss:{:.4f}'.format(loss.item()))\n",
        "        loop.update(1)\n",
        "    losses.append(loss)\n",
        "    #print (loss)\n",
        "loop.close()\n",
        "plot_train_loss(losses)\n",
        "#print (losses[-10:])"
      ],
      "execution_count": 10,
      "outputs": [
        {
          "output_type": "stream",
          "text": [
            "loss:0.1173:  10%|▉         | 480/5000 [00:18<02:52, 26.21it/s]\n",
            "loss:0.1138: 100%|██████████| 500/500 [00:15<00:00, 32.38it/s]\n"
          ],
          "name": "stderr"
        },
        {
          "output_type": "display_data",
          "data": {
            "image/png": "[encoded data removed]",
            "text/plain": [
              "<matplotlib.figure.Figure at 0x7f0c3f208a90>"
            ]
          },
          "metadata": {
            "tags": []
          }
        }
      ]
    },
    {
      "metadata": {
        "id": "xNnaRzSiSuWB",
        "colab_type": "text"
      },
      "cell_type": "markdown",
      "source": [
        ""
      ]
    },
    {
      "metadata": {
        "id": "zbNev81OSs5-",
        "colab_type": "code",
        "colab": {}
      },
      "cell_type": "code",
      "source": [
        "## Part 2: Training vs Validation set\n"
      ],
      "execution_count": 0,
      "outputs": []
    },
    {
      "metadata": {
        "id": "MSNMBRqxA278",
        "colab_type": "code",
        "colab": {
          "base_uri": "https://localhost:8080/",
          "height": 311
        },
        "outputId": "d0112f57-6b0b-4b12-957e-3b5cbe53dc83"
      },
      "cell_type": "code",
      "source": [
        "import torch\n",
        "import torch.nn as nn\n",
        "import torch.nn.functional as F\n",
        "import torch.optim as optim\n",
        "import torchvision\n",
        "from torch.utils.data import Dataset, DataLoader\n",
        "from torchvision import transforms, utils, datasets\n",
        "import matplotlib.pyplot as plt\n",
        "import numpy as np\n",
        "from tqdm import tqdm\n",
        "\n",
        "# Instruct matplotlib to draw inline\n",
        "%matplotlib inline\n",
        "\n",
        "# See if the cuda is avaliable and store it in device\n",
        "device = torch.device(\"cuda:0\" if torch.cuda.is_available() else \"cpu\")\n",
        "\n",
        "\n",
        "# Define the neural nets module which inherits the nn.Module\n",
        "class Network(nn.Module):\n",
        "    def __init__(self, dataset):\n",
        "        super(Network, self).__init__()\n",
        "        x, y = dataset[0]\n",
        "        c, h, w = x.size()\n",
        "        out = y.size(0)\n",
        "        # One of the way to define the neural nets layers\n",
        "        \n",
        "        # self.net = nn.Sequential(nn.Linear(c * h * w, out))\n",
        "        \n",
        "        # Defining multiple layer neural networks\n",
        "        self.net = nn.Sequential(\n",
        "            nn.Linear(c * h * w, 1000),\n",
        "            nn.ReLU(),\n",
        "            nn.Linear(1000, 500),\n",
        "            nn.ReLU(),\n",
        "            nn.Linear(500, out),\n",
        "            )\n",
        "    # Forward pass. Backward pass is automatically implemented\n",
        "    def forward(self, x):\n",
        "        n, c, h, w = x.size()\n",
        "        flattened = x.view(n , c * h * w)\n",
        "        return self.net(flattened)\n",
        "\n",
        "\n",
        "# Defining custom dataset processor\n",
        "class FashionMNISTProcessedDataset(Dataset):\n",
        "    def __init__(self, root, train=True):\n",
        "        self.data = datasets.FashionMNIST(root=root, train=train,\n",
        "            download=True, transform=transforms.ToTensor())\n",
        "        # Identity matrix\n",
        "        self.e = torch.eye(10)\n",
        "\n",
        "    def __getitem__(self, i):\n",
        "        x, y = self.data[i]\n",
        "        # Only used if we want y as a scalar\n",
        "        # return x, y.unsqueeze(0).float()\n",
        "        # Y as an one hot encoding\n",
        "        return x, self.e[y].float()\n",
        "\n",
        "    def __len__(self):\n",
        "        return 100 #len(self.data)\n",
        "\n",
        "      \n",
        "# Ploting the train loss   \n",
        "def plot_train_loss(loss):\n",
        "    #x = np.linspace(0, 2, 100)\n",
        "    x = range(len(loss))\n",
        "\n",
        "    plt.plot(x, loss, label='loss')\n",
        "\n",
        "    plt.xlabel('Epoch')\n",
        "    plt.ylabel('Loss')\n",
        "\n",
        "    plt.title(\"Training Loss per Epoch\")\n",
        "\n",
        "    plt.legend()\n",
        "\n",
        "    plt.show()\n",
        "\n",
        "\n",
        "# Ploting the train loss   \n",
        "def plot_both_loss(loss, vloss):\n",
        "    #x = np.linspace(0, 2, 100)\n",
        "    x = range(len(loss))\n",
        "\n",
        "    plt.plot(x, loss, label='Training loss')\n",
        "    plt.plot(x, vloss, label='Validatation loss')\n",
        "\n",
        "    plt.xlabel('Epoch')\n",
        "    plt.ylabel('Loss')\n",
        "\n",
        "    plt.title(\"Losses per Epoch\")\n",
        "\n",
        "    plt.legend()\n",
        "\n",
        "    plt.show()    \n",
        "    \n",
        "\n",
        "def validatation_loop():\n",
        "  # Get the validation data and do a forward pass through the neural net\n",
        "  loss_batch = []\n",
        "  for x, y in valid_loader:\n",
        "    # Send both data and lable to cuda\n",
        "    x = x.cuda(async=True)\n",
        "    y = y.cuda(async=True)\n",
        "    # Do the forward pass \n",
        "    y_hat = model(x)\n",
        "    # Compute the loss. Prediction vs Real value\n",
        "    loss = loss_func(y_hat, y)\n",
        "    \n",
        "    # Add the loss to the list\n",
        "    loss_batch.append(loss)\n",
        "    \n",
        "  loss = torch.mean(torch.tensor(loss_batch))\n",
        "  return loss\n",
        "    \n",
        "# Load the training data in this case it Fashionmnist\n",
        "train_dataset = FashionMNISTProcessedDataset('/tmp/fashionmnist',train=True)\n",
        "\n",
        "# Load the validation data \n",
        "validatation_dataset = FashionMNISTProcessedDataset(\n",
        "    '/tmp/fashionmnist',train=False)\n",
        "\n",
        "# Build a neural net module passing this dataset\n",
        "model = Network(train_dataset)\n",
        "\n",
        "# Make sure that this model runs on cuda\n",
        "model = model.cuda()\n",
        "\n",
        "# Define the loss function. In this case MSELoss\n",
        "loss_func = torch.nn.MSELoss()\n",
        "\n",
        "# Define the optimizer to use. In this case SGD\n",
        "optimizer = optim.SGD(model.parameters(), lr=0.001)\n",
        "\n",
        "# Get the training data in a mini-batch\n",
        "train_loader = torch.utils.data.DataLoader(train_dataset, batch_size=20,\n",
        "    shuffle=False, num_workers=2, pin_memory=True)\n",
        "\n",
        "# Get the validatation data in a mini-batch\n",
        "valid_loader = torch.utils.data.DataLoader(validatation_dataset, batch_size=20,\n",
        "    shuffle=True, num_workers=2, pin_memory=True)\n",
        "\n",
        "# Define a list to store all the losses\n",
        "losses = []\n",
        "valid_losses = []\n",
        "# Define a tqdm instance to see the progress bar\n",
        "loop = tqdm(total=len(train_loader)*100, position=0)\n",
        "\n",
        "for epoch in range(100):\n",
        "    # Define a list for batch loss\n",
        "    batch_losses = []\n",
        "    # For each data batch from training data\n",
        "    for batch in train_loader:\n",
        "        # batch[0] is the data and 1 is the label\n",
        "        batch[0]=batch[0].cuda(async=True)\n",
        "        batch[1]=batch[1].cuda(async=True)\n",
        "        \n",
        "        # Reset the grad value to zero\n",
        "        optimizer.zero_grad()\n",
        "        \n",
        "        # Predicted value \n",
        "        y_hat = model(batch[0])\n",
        "        \n",
        "        # Compute the loss\n",
        "        loss = loss_func(y_hat, batch[1])\n",
        "        \n",
        "        # Propagate the loss backward. Backprop\n",
        "        loss.backward()\n",
        "        \n",
        "        # Update the weights\n",
        "        optimizer.step()\n",
        "        \n",
        "        # Set the tqdm params\n",
        "        loop.set_description('loss:{:.4f}'.format(loss.item()))\n",
        "        loop.update(1)\n",
        "        \n",
        "        # Append the loss to compute the average\n",
        "        batch_losses.append(loss)\n",
        "    \n",
        "    # Call the validatation step\n",
        "    valid_loss = validatation_loop()\n",
        "  \n",
        "    # Compute average loss for that batch\n",
        "    loss = torch.mean(torch.tensor(batch_losses))\n",
        "    \n",
        "    # Append the average loss to draw graph\n",
        "    losses.append(loss)\n",
        "    valid_losses.append(valid_loss)\n",
        "\n",
        "# Close the loop display\n",
        "loop.close()\n",
        "\n",
        "# Draw the plot\n",
        "plot_both_loss(losses, valid_losses)"
      ],
      "execution_count": 30,
      "outputs": [
        {
          "output_type": "stream",
          "text": [
            "loss:0.0866: 100%|██████████| 500/500 [00:32<00:00, 15.32it/s]\n"
          ],
          "name": "stderr"
        },
        {
          "output_type": "display_data",
          "data": {
            "image/png": "[encoded data removed]",
            "text/plain": [
              "<matplotlib.figure.Figure at 0x7f0c2c979a58>"
            ]
          },
          "metadata": {
            "tags": []
          }
        }
      ]
    },
    {
      "metadata": {
        "id": "uEjyN_-4B5iy",
        "colab_type": "code",
        "colab": {}
      },
      "cell_type": "code",
      "source": [
        ""
      ],
      "execution_count": 0,
      "outputs": []
    }
  ]
}